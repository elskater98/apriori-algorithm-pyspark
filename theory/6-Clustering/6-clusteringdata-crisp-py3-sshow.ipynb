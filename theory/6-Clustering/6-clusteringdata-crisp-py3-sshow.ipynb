{
 "cells": [
  {
   "cell_type": "markdown",
   "metadata": {
    "slideshow": {
     "slide_type": "slide"
    }
   },
   "source": [
    "<center>\n",
    "    <span style=\"color:blue; font-family:Georgia;  font-size:2em;\">\n",
    "        <h1>Clustering data - Crisp Algorithms</h1></span>\n",
    " </center>\n",
    "        <p> </p>\n",
    "        <p> </p>\n",
    "        <center><span style=\"color:blue; font-family:Georgia;  font-size:1em;\">\n",
    "        Ramon Béjar Torres</span></center>\n",
    "        <canvas id=\"myCanvas\" width=\"200\" height=\"100\" style=\"border:0px solid\"></canvas>\n",
    "        <center>Data mining - Master on Computer Science</center>\n",
    "        <center><img src=\"M-UdL2.png\"  width=\"200\" alt=\"UdL Logo\"></center>\n"
   ]
  },
  {
   "cell_type": "markdown",
   "metadata": {
    "slideshow": {
     "slide_type": "subslide"
    }
   },
   "source": [
    "We are going to discuss in this notebook an approach to the problem of clustering data sets. We consider data sets of points, where each point is considered to be a $d-$ dimensional numeric vector in an euclidean space.\n",
    "\n",
    "Given a data set, a cluster is a subset of points of the data set that are somehow related to each other.\n",
    "\n",
    "That is, they share some similar features, or we say that globally they form a group of related/similar points. \n",
    "\n",
    "For example, consider different demografic and economic variables for the countries. Do we observe a clear division between countries when  looking at those indicators ?"
   ]
  },
  {
   "cell_type": "markdown",
   "metadata": {
    "slideshow": {
     "slide_type": "subslide"
    }
   },
   "source": [
    "That we assume an euclidean space is at least necessary for the two algorithms we present here, k-means and Bisecting k-means, as they consider euclidean distances between points when measuring how close is each point to its cluster center, and the variance within each cluster produced. "
   ]
  },
  {
   "cell_type": "markdown",
   "metadata": {
    "slideshow": {
     "slide_type": "subslide"
    }
   },
   "source": [
    "The algorithms we consider here are examples of **unsupervised learning** algorithms:\n",
    "- They learn to what cluster belongs each data point without the prior knowledge of any *good* examples of points already well linked to their clusters.\n",
    "- So, the algorithms work without practical clues about what points contain each cluster. In other words, they **discover** concepts without prior human assistance about how are the concepts they should find."
   ]
  },
  {
   "cell_type": "code",
   "execution_count": null,
   "metadata": {
    "slideshow": {
     "slide_type": "skip"
    }
   },
   "outputs": [],
   "source": [
    "#\n",
    "# Our preliminary set-up code\n",
    "#\n",
    "\n",
    "import pyspark\n",
    "import os\n",
    "import math\n",
    "import random\n",
    "import sys\n",
    "\n",
    "%matplotlib inline\n",
    "import matplotlib\n",
    "import numpy as np\n",
    "import matplotlib.pyplot as plt\n",
    "\n",
    "\n",
    "spark_home = os.environ.get('SPARK_HOME', None)\n",
    "sc = pyspark.SparkContext('local[*]')\n",
    "\n",
    "print (spark_home, sc)"
   ]
  },
  {
   "cell_type": "markdown",
   "metadata": {
    "slideshow": {
     "slide_type": "slide"
    }
   },
   "source": [
    "## Exact (crisp) clustering with Lloyd algorithm (k-Means)"
   ]
  },
  {
   "cell_type": "markdown",
   "metadata": {
    "slideshow": {
     "slide_type": "subslide"
    }
   },
   "source": [
    "We first consider the problem of **exact** clustering. We assume that there exist k clusters (groups of points), and that each point in our data set belongs to **exactly one** of the k clusters. We start assuming that we know the right number of clusters $k$, although this value is usually something we have to guess in real applications of clustering."
   ]
  },
  {
   "cell_type": "markdown",
   "metadata": {
    "slideshow": {
     "slide_type": "subslide"
    }
   },
   "source": [
    "For presenting the algorithm, we need to introduce some definitions:\n",
    "\n",
    "- Target set of data points: Target set of $n$-dimensional points $D=\\{X_1,X_2,\\ldots,X_m \\}$\n",
    "\n",
    "- Euclidean distance between two points: $ || x-y || = \\sqrt{ \\sum_{i = 1}^{n} (x_i-y_i)^2 } $  \n",
    "\n",
    "- Centroid or center of a subset Y:  $  \\frac{1}{|Y|} \\sum_{y \\in Y} y $ \n",
    "\n",
    "- Within-cluster sum of square errors (WCSSE) for a set of clusters C: \n",
    "$$ \\sum_{c \\in C} \\sum_{x \\in c} || x-center(c) ||^2 $$"
   ]
  },
  {
   "cell_type": "markdown",
   "metadata": {
    "slideshow": {
     "slide_type": "subslide"
    }
   },
   "source": [
    "Then, Lloyd algorithm considers that a cluster:\n",
    "- Is defined simply by its center\n",
    "- The set of points that belong to a cluster is the set of points with smaller euclidean distance to that center than to any other cluster center.\n",
    "\n",
    "We can think about the cluster center as being the mean representative point of the cluster \n",
    "> Observe that it can be the case that there is no single point in our data set that is exactly equal to that cluster center.\n"
   ]
  },
  {
   "cell_type": "markdown",
   "metadata": {
    "slideshow": {
     "slide_type": "subslide"
    }
   },
   "source": [
    "Then, Lloyd algorithm finds a set of k clusters with the following iterative WCSSE improving algorithm:\n",
    "\n",
    "```python\n",
    "clusters = Initial Guess for k clusters centers  \n",
    "iters = 1  \n",
    "while (clusters changed significantly  &   iters <= limit) do:  \n",
    "  # Assign closest cluster to each point\n",
    "  for p in D:\n",
    "      clusterFor(p) = NearestClusterCenter(clusters,p)     \n",
    "  # Find best new set of cluster centers   \n",
    "  for c in [1,2,...,k]: \n",
    "      clusters(c) = centroid(points in D assigned to c)  \n",
    "  iters = iters + 1 \n",
    "```"
   ]
  },
  {
   "cell_type": "markdown",
   "metadata": {
    "slideshow": {
     "slide_type": "subslide"
    }
   },
   "source": [
    "From the two conditions to stop modifying the clusters:\n",
    "- the first one refers to measuring the difference of the clusters between the previous iterations and the current one. We need to define what we mean by *changed significantly*, but usually that means that the distance between at least one pair (old_center_i,new_center_i), for some cluster i, is greater than certain threshold value. \n",
    "- the second one is about reaching some maximum number of iterations. This is always necessary, as k-means may need sometimes a big number of iterations to reach the desired optimal clusters. Actually, it has been proven that there are cases where it needs an exponential number of iterations:\n",
    "> \"k-means Requires Exponentially Many Iterations Even\n",
    "in the Plane\" https://cseweb.ucsd.edu/~avattani/papers/kmeans.pdf\n",
    "\n",
    "\n",
    "In the Spark implementation of k-means, we can specify these two stopping conditions."
   ]
  },
  {
   "cell_type": "markdown",
   "metadata": {
    "collapsed": true,
    "slideshow": {
     "slide_type": "slide"
    }
   },
   "source": [
    "### Parallel implementation in the Map-Reduce framework\n",
    "\n",
    "The k-means algorithm we have just presented is a good example of an interesting algorithm to think about an efficient implementation in a Map-Reduce framework, and in the particular Spark programming framework where we can benefit from the memory-based, resilient distributed data sets(RDDs).\n",
    "\n",
    "First, regarding the data needed to store our current *model* for the clusters, observe that they are simply a set of k d-dimensional points (representing the centers of each cluster). So, assuming k is a small number compared with the total number of points in D, we are going to assume that the set of cluster centers can be distributed among all the workers in our spark application. \n",
    "\n"
   ]
  },
  {
   "cell_type": "markdown",
   "metadata": {
    "slideshow": {
     "slide_type": "subslide"
    }
   },
   "source": [
    "Let's analyze how to implement the two steps performed in every iteration of Lloyd algorithm. \n",
    "- In the first step, we have to assign to each data point its closest cluster center. This is clearly a map operation that can be performed locally with each point, using  (key,value) pairs, where the key is the cluster center assigned and the value is a point assigned to that cluster center:\n",
    "$$ map : point \\ p \\Rightarrow (nearestCenter(Clusters,p),p) $$\n",
    "\n",
    "\n",
    "- In the second step, we have to compute the centroid of each set of points assigned to the same cluster center. So, in this case this is clearly a reduceByKey operation, where the reduce operation for two points assigned to the same cluster center is simply: p1+p2 (coordinate wise addition).\n",
    "$$ reduceByKey : points \\ (c,p1),(c,p2) \\Rightarrow (c,p1+p2)$$\n",
    "Once we have all the points of every cluster added, we simply divide by the number of points of each cluster to get its centroid. So, we obtain the new cluster centers."
   ]
  },
  {
   "cell_type": "markdown",
   "metadata": {
    "slideshow": {
     "slide_type": "slide"
    }
   },
   "source": [
    "### Example domain: clustering countries\n",
    "\n",
    "Consider the following data set of countries where we include the birth rate and death rate of every country in the data set. We will try to discover if there are any subgroups of countries, regarding their similarites in these two demographic indicators, using the k-means clustering algorithm"
   ]
  },
  {
   "cell_type": "code",
   "execution_count": 43,
   "metadata": {
    "slideshow": {
     "slide_type": "subslide"
    }
   },
   "outputs": [],
   "source": [
    "#  Coutry information about birth rate (2nd col) and death rate (3th col):\n",
    "#  The complete countries data set can be found at: data/countries_data.csv\n",
    "#\n",
    "countriesdata = [ [ 'Afghanistan', 38.6, 13.9 ], \\\n",
    "                  [ 'Armenia', 13.6, 9.3 ], \\\n",
    "                  [ 'India',  19.6  ,  7.3 ], \\\n",
    "                  [ 'Iran', 18  ,  5.9 ], \\\n",
    "                  [ 'Iraq', 31.5  ,  3.8 ], \\\n",
    "                  [ 'Yemen', 30  ,  6.3 ], \\\n",
    "                  [ 'Israel', 18.5  ,  5.2 ], \\\n",
    "                  [ 'Italy',  8.7  ,  10.2  ], \\\n",
    "                  [ 'Germany'  ,  8.5  ,  11.4 ], \\\n",
    "                  [  'Denmark'  ,  10.3  ,  10.3    ], \\\n",
    "                  [  'France'  ,  12.4  ,  9.2    ], \\\n",
    "                  [  'Spain'  ,  9.6  ,  9     ], \\\n",
    "                  [ 'Austria'  ,  9.4  ,  9.4  ], \\\n",
    "                  [ 'Switzerland'  ,  10.5  ,  8.1 ], \\\n",
    "                  [  'Ecuador'  ,  18.5  ,  5.1 ], \\\n",
    "                  [  'Peru'  ,  18.3  ,  6 ], \\\n",
    "                  [  'Bolivia'  ,  22.8  ,  6.5 ], \\\n",
    "                  [  'Brazil'  ,  14.5  ,  6.6, ], \\\n",
    "                  [ 'Argentina'  ,  16.6  ,  7.3 ], \\\n",
    "                  [  'Chile'  ,  13.8  ,  6    ], \\\n",
    "                  [  'Colombia'  ,  16.5  ,  5.4 ] ]"
   ]
  },
  {
   "cell_type": "markdown",
   "metadata": {
    "slideshow": {
     "slide_type": "subslide"
    }
   },
   "source": [
    "We are going to use the implementation of k-means available in spark, that incorporates an alternative way of creating the initial set of cluster centers (apart of the method of picking uniformly at random k points). But in this notebook we will not explore the alternative ways to create the initial centers, although they can have a big impact in the needed number of iterations to achieve good results. Check the paper:\n",
    "\n",
    "> B. Bahmani, B. Moseley, A. Vattani, R. Kumar and S. Vassilvitskii. *Scalable K-Means++*. In Proceedings of PVLDB 5(7): 622-633. URL: http://theory.stanford.edu/~sergei/papers/vldb12-kmpar.pdf (2012)\n",
    "\n",
    "If you want to know more about the specific alternative centers initialization available in the k-means implementation available in spark"
   ]
  },
  {
   "cell_type": "code",
   "execution_count": 44,
   "metadata": {
    "slideshow": {
     "slide_type": "subslide"
    }
   },
   "outputs": [],
   "source": [
    "from pyspark.mllib.clustering import KMeans, KMeansModel\n",
    "\n",
    "# Evaluate the error of a point, computed with its distance to the predicted cluster center\n",
    "# (Within Cluster Sum of Squared Errors)\n",
    "def error(clusters,point):\n",
    "    center = clusters.centers[clusters.predict(point)]\n",
    "    return sum([x**2 for x in (point - center)])"
   ]
  },
  {
   "cell_type": "code",
   "execution_count": 48,
   "metadata": {
    "slideshow": {
     "slide_type": "subslide"
    }
   },
   "outputs": [
    {
     "name": "stdout",
     "output_type": "stream",
     "text": [
      "[17.71  6.13]\n",
      "[33.36666667  8.        ]\n",
      "[10.375   9.6125]\n"
     ]
    }
   ],
   "source": [
    "countriesRDD = sc.parallelize( countriesdata ).map( lambda p : np.array(p[1:]) )\n",
    "countriesRDD.persist()\n",
    "\n",
    "# Cluster the data in 3 clusters\n",
    "countriesclusters1 = KMeans.train( countriesRDD, 3, maxIterations=20, \\\n",
    "                               initializationMode=\"random\")\n",
    "#Show clusters centers:\n",
    "for c in countriesclusters1.centers:\n",
    "    print (c)"
   ]
  },
  {
   "cell_type": "code",
   "execution_count": 49,
   "metadata": {
    "slideshow": {
     "slide_type": "subslide"
    }
   },
   "outputs": [
    {
     "name": "stdout",
     "output_type": "stream",
     "text": [
      "\n",
      "Cluster for  Afghanistan  :  1\n",
      "Cluster for  Armenia  :  2\n",
      "Cluster for  India  :  0\n",
      "Cluster for  Iran  :  0\n",
      "Cluster for  Iraq  :  1\n",
      "Cluster for  Yemen  :  1\n",
      "Cluster for  Israel  :  0\n",
      "Cluster for  Italy  :  2\n",
      "Cluster for  Germany  :  2\n",
      "Cluster for  Denmark  :  2\n",
      "Cluster for  France  :  2\n",
      "Cluster for  Spain  :  2\n",
      "Cluster for  Austria  :  2\n",
      "Cluster for  Switzerland  :  2\n",
      "Cluster for  Ecuador  :  0\n",
      "Cluster for  Peru  :  0\n",
      "Cluster for  Bolivia  :  0\n",
      "Cluster for  Brazil  :  0\n",
      "Cluster for  Argentina  :  0\n",
      "Cluster for  Chile  :  0\n",
      "Cluster for  Colombia  :  0\n",
      "Within Cluster Sum of Squared Error = 192.02041666666668\n",
      "Average Square Error = 9.143829365079366\n"
     ]
    }
   ],
   "source": [
    "print (\"\")\n",
    "cpredictions = {}\n",
    "for country in countriesdata:\n",
    "    cpredictions[country[0]] = countriesclusters1.predict(np.array(country[1:]))\n",
    "    print (\"Cluster for \", country[0], \" : \", cpredictions[country[0]])\n",
    "\n",
    "WCSSE = countriesRDD.map(lambda point: error(countriesclusters1,point)).reduce(lambda x, y: x + y)\n",
    "print(\"Within Cluster Sum of Squared Error = \" + str(WCSSE))\n",
    "print(\"Average Square Error = \"+ str(WCSSE/countriesRDD.count()))"
   ]
  },
  {
   "cell_type": "markdown",
   "metadata": {
    "collapsed": true,
    "slideshow": {
     "slide_type": "subslide"
    }
   },
   "source": [
    "If we execute k-means with the countries data set, almost all the executions obtain a model with WCSSE around 190, although some of them achieve a bigger error.\n",
    "\n",
    "Because we have only two dimensions per point, we can easily plot the points of each cluster to visually inspect if the clusters learned make any sense. We can do this with a 2D plot that we make with matplotlib. "
   ]
  },
  {
   "cell_type": "code",
   "execution_count": 50,
   "metadata": {
    "slideshow": {
     "slide_type": "subslide"
    }
   },
   "outputs": [
    {
     "data": {
      "image/png": "[encoded data removed]",
      "text/plain": [
       "<Figure size 1000x600 with 1 Axes>"
      ]
     },
     "metadata": {
      "needs_background": "light"
     },
     "output_type": "display_data"
    }
   ],
   "source": [
    "import itertools\n",
    "fig=plt.figure(figsize=(10,6), dpi= 100)\n",
    "\n",
    "palette = itertools.cycle(['b','r','m'])\n",
    "for c in range(3):\n",
    "  cclusterx = [ x[1] for x in countriesdata if cpredictions[x[0]] == c]               \n",
    "  cclustery = [ x[2] for x in countriesdata if cpredictions[x[0]] == c]  \n",
    "  plt.scatter(cclusterx,cclustery,color=next(palette) )\n",
    "     \n",
    "centersX = [ x[0] for x in countriesclusters1.centers ]\n",
    "centersY = [ x[1] for x in countriesclusters1.centers ]\n",
    "# Plot the center of each cluster\n",
    "plt.scatter(centersX, centersY, marker='x', s=100, linewidths=3, color=['b','r','m'], zorder=10) \n",
    "\n",
    "plt.xlabel('birth rate')\n",
    "plt.ylabel('death rate')\n",
    "plt.show()    "
   ]
  },
  {
   "cell_type": "markdown",
   "metadata": {
    "slideshow": {
     "slide_type": "slide"
    }
   },
   "source": [
    "### Example domain: clustering similar users\n",
    "\n",
    "Let's now turn our attention to the topic of discovering similar users for recommender systems. In particular, let's consider a data base of users, where for each user we store the ratings given by the user to different movies. We will talk more about recommender systems later in this course, dicussing more appropriate ways of dealing with such data, where tipically many entries (actually most of the entries) of such user-product matrix will be empty, so this clustering approach may not be always usable."
   ]
  },
  {
   "cell_type": "code",
   "execution_count": 8,
   "metadata": {
    "slideshow": {
     "slide_type": "subslide"
    }
   },
   "outputs": [],
   "source": [
    "# Example data\n",
    "#\n",
    "# We have 10 users, and 10 movies: STW1, STW2, STW3, STW4, STW5, STW6\n",
    "#                                  T1, T2, T3 and BaT\n",
    "# Each entry i,j is the rating given by the user in the range [-5.0,5.0]\n",
    "# We can observe that we have 4 clear Star Wars fans (that they also like a \n",
    "# little bit Terminator movies)\n",
    "# We also have four clear Terminator fans (that they also like a little STWs movies)\n",
    "# Finally, we have two clear Breakfast at tiffannies fans (BaT), that they do not\n",
    "# like too much science-fiction movies\n",
    "\n",
    "usersandmovies = [ [3,3,3,5,5,4, 3,3,-1, -1], \\\n",
    "                   [3,3,3,5,5,4, 4,2,0, -1], \\\n",
    "                   [3,3,4,5,5,4, 4,4,1, 0], \\\n",
    "                   [4,3,3,4,5,4, 3,3,1, -1], \\\n",
    "                   [1,1,1,0,1,1, 5,4,2, -1], \\\n",
    "                   [1,2,1,0,1,1, 4,4,2, -1], \\\n",
    "                   [1,2,2,1,1,1, 4,4,2, -1], \\\n",
    "                   [1,2,2,1,1,0, 5,4,3, -1], \\\n",
    "                   [-2,-3,-2,0,-2,-1, 0,0,-1,4], \\\n",
    "                   [-2,-3,-2,0,-2,-1, 0,0,-1,4]   ]"
   ]
  },
  {
   "cell_type": "markdown",
   "metadata": {
    "collapsed": true,
    "slideshow": {
     "slide_type": "subslide"
    }
   },
   "source": [
    "The code we use for discovering three clusters in this second data set is almost identical to the previous one, given that the input data format is almost the same:"
   ]
  },
  {
   "cell_type": "code",
   "execution_count": 21,
   "metadata": {
    "slideshow": {
     "slide_type": "fragment"
    }
   },
   "outputs": [],
   "source": [
    "usersandmoviesRDD = sc.parallelize( usersandmovies ).map( lambda p : np.array(p) )\n",
    "usersandmoviesRDD.persist()\n",
    "\n",
    "# Cluster the data in 3 clusters\n",
    "userclusters1 = KMeans.train( usersandmoviesRDD, 3, maxIterations=5, \\\n",
    "                               initializationMode=\"random\")"
   ]
  },
  {
   "cell_type": "code",
   "execution_count": 22,
   "metadata": {
    "slideshow": {
     "slide_type": "subslide"
    }
   },
   "outputs": [
    {
     "name": "stdout",
     "output_type": "stream",
     "text": [
      "Cluster for  [3, 3, 3, 5, 5, 4, 3, 3, -1, -1]  :  0\n",
      "Cluster for  [3, 3, 3, 5, 5, 4, 4, 2, 0, -1]  :  0\n",
      "Cluster for  [3, 3, 4, 5, 5, 4, 4, 4, 1, 0]  :  0\n",
      "Cluster for  [4, 3, 3, 4, 5, 4, 3, 3, 1, -1]  :  0\n",
      "Cluster for  [1, 1, 1, 0, 1, 1, 5, 4, 2, -1]  :  2\n",
      "Cluster for  [1, 2, 1, 0, 1, 1, 4, 4, 2, -1]  :  2\n",
      "Cluster for  [1, 2, 2, 1, 1, 1, 4, 4, 2, -1]  :  2\n",
      "Cluster for  [1, 2, 2, 1, 1, 0, 5, 4, 3, -1]  :  2\n",
      "Cluster for  [-2, -3, -2, 0, -2, -1, 0, 0, -1, 4]  :  1\n",
      "Cluster for  [-2, -3, -2, 0, -2, -1, 0, 0, -1, 4]  :  1\n",
      "Within Cluster Sum of Squared Error = 14.0\n"
     ]
    }
   ],
   "source": [
    "for user in usersandmovies:\n",
    "    print (\"Cluster for \", user, \" : \", userclusters1.predict(np.array(user)))\n",
    "\n",
    "WCSSE = usersandmoviesRDD.map(lambda point: error(userclusters1,point)).reduce(lambda x, y: x + y)\n",
    "print(\"Within Cluster Sum of Squared Error = \" + str(WCSSE))"
   ]
  },
  {
   "cell_type": "markdown",
   "metadata": {
    "collapsed": true,
    "slideshow": {
     "slide_type": "fragment"
    }
   },
   "source": [
    "Observe that in *almost all* the executions of k-means with this data set, we discover the three subgroups of user profiles we have intentionally introduced in this data set of user movie reviews. However, in some executions the clusters discovered differ slightly, and the WCSSE increases from 14 to 35."
   ]
  },
  {
   "cell_type": "markdown",
   "metadata": {
    "slideshow": {
     "slide_type": "slide"
    }
   },
   "source": [
    "##  The bisecting k-means algorithm \n",
    "\n",
    "\n",
    "This algorithm is a variant of the k-means algorithm, that works by creating a tree of clusters, being the final set of k leaf clusters the clusters finally provided. The original version is from the paper \"A comparison of document clustering techniques\", by Steinbach, Karypis, and Kumar:\n",
    "\n",
    " https://www.researchgate.net/publication/2628533_A_Comparison_of_Document_Clustering_Techniques\n",
    "\n"
   ]
  },
  {
   "cell_type": "markdown",
   "metadata": {
    "slideshow": {
     "slide_type": "subslide"
    }
   },
   "source": [
    "We present here the version implemented in Spark, in pseudo-code:\n",
    "\n",
    "\n",
    "```python\n",
    "level=0\n",
    "# Start with a single cluster, but we want to have k\n",
    "Clusters[level] = [[All the points]] \n",
    "while ( len(Clusters[level] < k and\n",
    "         there are divisible clusters):\n",
    "   tobisect = pickDivisibleClusters(Clusters[level])\n",
    "   # Make two child clusters from each cluster in tobisect:       \n",
    "   Clusters[level+1] =\n",
    "       [RunKmeans(cluster,2,maxIterations) for cluster in tobisect]\n",
    "   level=level+1    \n",
    "```"
   ]
  },
  {
   "cell_type": "markdown",
   "metadata": {
    "slideshow": {
     "slide_type": "subslide"
    }
   },
   "source": [
    "- The bisecting steps of clusters on the same level are executed in parallel.\n",
    "- If bisecting all divisible clusters on the curent level would result in more than `k` leaf clusters, larger clusters will be the ones picked\n",
    "- A cluster is divisible if its number of points is above certain **minimum number of points**\n",
    "> It may be necessary to set this minimum value not too small, to avoid overfiting problems"
   ]
  },
  {
   "cell_type": "markdown",
   "metadata": {
    "slideshow": {
     "slide_type": "subslide"
    }
   },
   "source": [
    "Next, let's see this Bisecting k-means algorithm executed in spark"
   ]
  },
  {
   "cell_type": "code",
   "execution_count": 14,
   "metadata": {
    "slideshow": {
     "slide_type": "fragment"
    }
   },
   "outputs": [],
   "source": [
    "from pyspark.mllib.clustering import BisectingKMeans\n"
   ]
  },
  {
   "cell_type": "code",
   "execution_count": 15,
   "metadata": {
    "slideshow": {
     "slide_type": "fragment"
    }
   },
   "outputs": [],
   "source": [
    "# Cluster the data in 3 clusters, but starting from one big cluster\n",
    "# and bisecting clusters until we finally get k (3) clusters\n",
    "userclusters2 = BisectingKMeans.train( usersandmoviesRDD, 3, maxIterations=5)"
   ]
  },
  {
   "cell_type": "code",
   "execution_count": 23,
   "metadata": {
    "slideshow": {
     "slide_type": "subslide"
    }
   },
   "outputs": [
    {
     "name": "stdout",
     "output_type": "stream",
     "text": [
      "Cluster for  [3, 3, 3, 5, 5, 4, 3, 3, -1, -1]  :  2\n",
      "Cluster for  [3, 3, 3, 5, 5, 4, 4, 2, 0, -1]  :  2\n",
      "Cluster for  [3, 3, 4, 5, 5, 4, 4, 4, 1, 0]  :  2\n",
      "Cluster for  [4, 3, 3, 4, 5, 4, 3, 3, 1, -1]  :  2\n",
      "Cluster for  [1, 1, 1, 0, 1, 1, 5, 4, 2, -1]  :  1\n",
      "Cluster for  [1, 2, 1, 0, 1, 1, 4, 4, 2, -1]  :  1\n",
      "Cluster for  [1, 2, 2, 1, 1, 1, 4, 4, 2, -1]  :  1\n",
      "Cluster for  [1, 2, 2, 1, 1, 0, 5, 4, 3, -1]  :  1\n",
      "Cluster for  [-2, -3, -2, 0, -2, -1, 0, 0, -1, 4]  :  0\n",
      "Cluster for  [-2, -3, -2, 0, -2, -1, 0, 0, -1, 4]  :  0\n",
      "Within Cluster Sum of Squared Error = 14.0\n"
     ]
    }
   ],
   "source": [
    "for user in usersandmovies:\n",
    "    print (\"Cluster for \", user, \" : \", userclusters2.predict(np.array(user)))\n",
    "\n",
    "WCSSE = userclusters2.computeCost(usersandmoviesRDD)\n",
    "print(\"Within Cluster Sum of Squared Error = \" + str(WCSSE))"
   ]
  },
  {
   "cell_type": "code",
   "execution_count": null,
   "metadata": {},
   "outputs": [],
   "source": []
  }
 ],
 "metadata": {
  "celltoolbar": "Slideshow",
  "kernelspec": {
   "display_name": "Python 3",
   "language": "python",
   "name": "python3"
  },
  "language_info": {
   "codemirror_mode": {
    "name": "ipython",
    "version": 3
   },
   "file_extension": ".py",
   "mimetype": "text/x-python",
   "name": "python",
   "nbconvert_exporter": "python",
   "pygments_lexer": "ipython3",
   "version": "3.8.10"
  }
 },
 "nbformat": 4,
 "nbformat_minor": 1
}
